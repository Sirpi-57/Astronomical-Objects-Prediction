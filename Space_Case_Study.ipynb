{
 "cells": [
  {
   "cell_type": "code",
   "execution_count": 1,
   "id": "6d53e553-be82-4af9-ab8c-7846c4f09633",
   "metadata": {},
   "outputs": [],
   "source": [
    "import numpy as np\n",
    "import seaborn as sns\n",
    "import pandas as pd\n",
    "import matplotlib.pyplot as plt\n",
    "from sklearn.decomposition import PCA\n",
    "\n",
    "\n",
    "sns.set_style('whitegrid')\n",
    "import warnings\n",
    "warnings.filterwarnings(\"ignore\", category = DeprecationWarning) # If any of my package is outdated.\n"
   ]
  },
  {
   "cell_type": "code",
   "execution_count": 2,
   "id": "20953ca4-9169-45ac-a4b8-0114d962c66e",
   "metadata": {},
   "outputs": [
    {
     "data": {
      "text/html": [
       "<div>\n",
       "<style scoped>\n",
       "    .dataframe tbody tr th:only-of-type {\n",
       "        vertical-align: middle;\n",
       "    }\n",
       "\n",
       "    .dataframe tbody tr th {\n",
       "        vertical-align: top;\n",
       "    }\n",
       "\n",
       "    .dataframe thead th {\n",
       "        text-align: right;\n",
       "    }\n",
       "</style>\n",
       "<table border=\"1\" class=\"dataframe\">\n",
       "  <thead>\n",
       "    <tr style=\"text-align: right;\">\n",
       "      <th></th>\n",
       "      <th>objid</th>\n",
       "      <th>ra</th>\n",
       "      <th>dec</th>\n",
       "      <th>u</th>\n",
       "      <th>g</th>\n",
       "      <th>r</th>\n",
       "      <th>i</th>\n",
       "      <th>z</th>\n",
       "      <th>run</th>\n",
       "      <th>rerun</th>\n",
       "      <th>camcol</th>\n",
       "      <th>field</th>\n",
       "      <th>specobjid</th>\n",
       "      <th>class</th>\n",
       "      <th>redshift</th>\n",
       "      <th>plate</th>\n",
       "      <th>mjd</th>\n",
       "      <th>fiberid</th>\n",
       "    </tr>\n",
       "  </thead>\n",
       "  <tbody>\n",
       "    <tr>\n",
       "      <th>0</th>\n",
       "      <td>1.237650e+18</td>\n",
       "      <td>183.531326</td>\n",
       "      <td>0.089693</td>\n",
       "      <td>19.47406</td>\n",
       "      <td>17.04240</td>\n",
       "      <td>15.94699</td>\n",
       "      <td>15.50342</td>\n",
       "      <td>15.22531</td>\n",
       "      <td>752</td>\n",
       "      <td>301</td>\n",
       "      <td>4</td>\n",
       "      <td>267</td>\n",
       "      <td>3.722360e+18</td>\n",
       "      <td>STAR</td>\n",
       "      <td>-0.000009</td>\n",
       "      <td>3306</td>\n",
       "      <td>54922</td>\n",
       "      <td>491</td>\n",
       "    </tr>\n",
       "    <tr>\n",
       "      <th>1</th>\n",
       "      <td>1.237650e+18</td>\n",
       "      <td>183.598370</td>\n",
       "      <td>0.135285</td>\n",
       "      <td>18.66280</td>\n",
       "      <td>17.21449</td>\n",
       "      <td>16.67637</td>\n",
       "      <td>16.48922</td>\n",
       "      <td>16.39150</td>\n",
       "      <td>752</td>\n",
       "      <td>301</td>\n",
       "      <td>4</td>\n",
       "      <td>267</td>\n",
       "      <td>3.638140e+17</td>\n",
       "      <td>STAR</td>\n",
       "      <td>-0.000055</td>\n",
       "      <td>323</td>\n",
       "      <td>51615</td>\n",
       "      <td>541</td>\n",
       "    </tr>\n",
       "    <tr>\n",
       "      <th>2</th>\n",
       "      <td>1.237650e+18</td>\n",
       "      <td>183.680207</td>\n",
       "      <td>0.126185</td>\n",
       "      <td>19.38298</td>\n",
       "      <td>18.19169</td>\n",
       "      <td>17.47428</td>\n",
       "      <td>17.08732</td>\n",
       "      <td>16.80125</td>\n",
       "      <td>752</td>\n",
       "      <td>301</td>\n",
       "      <td>4</td>\n",
       "      <td>268</td>\n",
       "      <td>3.232740e+17</td>\n",
       "      <td>GALAXY</td>\n",
       "      <td>0.123111</td>\n",
       "      <td>287</td>\n",
       "      <td>52023</td>\n",
       "      <td>513</td>\n",
       "    </tr>\n",
       "    <tr>\n",
       "      <th>3</th>\n",
       "      <td>1.237650e+18</td>\n",
       "      <td>183.870529</td>\n",
       "      <td>0.049911</td>\n",
       "      <td>17.76536</td>\n",
       "      <td>16.60272</td>\n",
       "      <td>16.16116</td>\n",
       "      <td>15.98233</td>\n",
       "      <td>15.90438</td>\n",
       "      <td>752</td>\n",
       "      <td>301</td>\n",
       "      <td>4</td>\n",
       "      <td>269</td>\n",
       "      <td>3.722370e+18</td>\n",
       "      <td>STAR</td>\n",
       "      <td>-0.000111</td>\n",
       "      <td>3306</td>\n",
       "      <td>54922</td>\n",
       "      <td>510</td>\n",
       "    </tr>\n",
       "    <tr>\n",
       "      <th>4</th>\n",
       "      <td>1.237650e+18</td>\n",
       "      <td>183.883288</td>\n",
       "      <td>0.102557</td>\n",
       "      <td>17.55025</td>\n",
       "      <td>16.26342</td>\n",
       "      <td>16.43869</td>\n",
       "      <td>16.55492</td>\n",
       "      <td>16.61326</td>\n",
       "      <td>752</td>\n",
       "      <td>301</td>\n",
       "      <td>4</td>\n",
       "      <td>269</td>\n",
       "      <td>3.722370e+18</td>\n",
       "      <td>STAR</td>\n",
       "      <td>0.000590</td>\n",
       "      <td>3306</td>\n",
       "      <td>54922</td>\n",
       "      <td>512</td>\n",
       "    </tr>\n",
       "  </tbody>\n",
       "</table>\n",
       "</div>"
      ],
      "text/plain": [
       "          objid          ra       dec         u         g         r         i  \\\n",
       "0  1.237650e+18  183.531326  0.089693  19.47406  17.04240  15.94699  15.50342   \n",
       "1  1.237650e+18  183.598370  0.135285  18.66280  17.21449  16.67637  16.48922   \n",
       "2  1.237650e+18  183.680207  0.126185  19.38298  18.19169  17.47428  17.08732   \n",
       "3  1.237650e+18  183.870529  0.049911  17.76536  16.60272  16.16116  15.98233   \n",
       "4  1.237650e+18  183.883288  0.102557  17.55025  16.26342  16.43869  16.55492   \n",
       "\n",
       "          z  run  rerun  camcol  field     specobjid   class  redshift  plate  \\\n",
       "0  15.22531  752    301       4    267  3.722360e+18    STAR -0.000009   3306   \n",
       "1  16.39150  752    301       4    267  3.638140e+17    STAR -0.000055    323   \n",
       "2  16.80125  752    301       4    268  3.232740e+17  GALAXY  0.123111    287   \n",
       "3  15.90438  752    301       4    269  3.722370e+18    STAR -0.000111   3306   \n",
       "4  16.61326  752    301       4    269  3.722370e+18    STAR  0.000590   3306   \n",
       "\n",
       "     mjd  fiberid  \n",
       "0  54922      491  \n",
       "1  51615      541  \n",
       "2  52023      513  \n",
       "3  54922      510  \n",
       "4  54922      512  "
      ]
     },
     "execution_count": 2,
     "metadata": {},
     "output_type": "execute_result"
    }
   ],
   "source": [
    "df = pd.read_csv('Skyserver.csv')\n",
    "df.head()"
   ]
  },
  {
   "cell_type": "code",
   "execution_count": 3,
   "id": "7aa8ca0c-521a-435e-9cdb-9da6eb182eaa",
   "metadata": {},
   "outputs": [
    {
     "data": {
      "text/plain": [
       "(10000, 18)"
      ]
     },
     "execution_count": 3,
     "metadata": {},
     "output_type": "execute_result"
    }
   ],
   "source": [
    "df.shape"
   ]
  },
  {
   "cell_type": "code",
   "execution_count": 4,
   "id": "f673c946-be2e-4a87-b691-7c786ba5095c",
   "metadata": {},
   "outputs": [
    {
     "name": "stdout",
     "output_type": "stream",
     "text": [
      "<class 'pandas.core.frame.DataFrame'>\n",
      "RangeIndex: 10000 entries, 0 to 9999\n",
      "Data columns (total 18 columns):\n",
      " #   Column     Non-Null Count  Dtype  \n",
      "---  ------     --------------  -----  \n",
      " 0   objid      10000 non-null  float64\n",
      " 1   ra         10000 non-null  float64\n",
      " 2   dec        10000 non-null  float64\n",
      " 3   u          10000 non-null  float64\n",
      " 4   g          10000 non-null  float64\n",
      " 5   r          10000 non-null  float64\n",
      " 6   i          10000 non-null  float64\n",
      " 7   z          10000 non-null  float64\n",
      " 8   run        10000 non-null  int64  \n",
      " 9   rerun      10000 non-null  int64  \n",
      " 10  camcol     10000 non-null  int64  \n",
      " 11  field      10000 non-null  int64  \n",
      " 12  specobjid  10000 non-null  float64\n",
      " 13  class      10000 non-null  object \n",
      " 14  redshift   10000 non-null  float64\n",
      " 15  plate      10000 non-null  int64  \n",
      " 16  mjd        10000 non-null  int64  \n",
      " 17  fiberid    10000 non-null  int64  \n",
      "dtypes: float64(10), int64(7), object(1)\n",
      "memory usage: 1.4+ MB\n"
     ]
    }
   ],
   "source": [
    "df.info()"
   ]
  },
  {
   "cell_type": "code",
   "execution_count": 5,
   "id": "79d342a8-a1bb-4d4a-9caf-ce55d9cc0097",
   "metadata": {},
   "outputs": [
    {
     "data": {
      "text/html": [
       "<div>\n",
       "<style scoped>\n",
       "    .dataframe tbody tr th:only-of-type {\n",
       "        vertical-align: middle;\n",
       "    }\n",
       "\n",
       "    .dataframe tbody tr th {\n",
       "        vertical-align: top;\n",
       "    }\n",
       "\n",
       "    .dataframe thead th {\n",
       "        text-align: right;\n",
       "    }\n",
       "</style>\n",
       "<table border=\"1\" class=\"dataframe\">\n",
       "  <thead>\n",
       "    <tr style=\"text-align: right;\">\n",
       "      <th></th>\n",
       "      <th>objid</th>\n",
       "      <th>ra</th>\n",
       "      <th>dec</th>\n",
       "      <th>u</th>\n",
       "      <th>g</th>\n",
       "      <th>r</th>\n",
       "      <th>i</th>\n",
       "      <th>z</th>\n",
       "      <th>run</th>\n",
       "      <th>rerun</th>\n",
       "      <th>camcol</th>\n",
       "      <th>field</th>\n",
       "      <th>specobjid</th>\n",
       "      <th>redshift</th>\n",
       "      <th>plate</th>\n",
       "      <th>mjd</th>\n",
       "      <th>fiberid</th>\n",
       "    </tr>\n",
       "  </thead>\n",
       "  <tbody>\n",
       "    <tr>\n",
       "      <th>count</th>\n",
       "      <td>1.000000e+04</td>\n",
       "      <td>10000.000000</td>\n",
       "      <td>10000.000000</td>\n",
       "      <td>10000.000000</td>\n",
       "      <td>10000.000000</td>\n",
       "      <td>10000.000000</td>\n",
       "      <td>10000.000000</td>\n",
       "      <td>10000.000000</td>\n",
       "      <td>10000.000000</td>\n",
       "      <td>10000.0</td>\n",
       "      <td>10000.000000</td>\n",
       "      <td>10000.000000</td>\n",
       "      <td>1.000000e+04</td>\n",
       "      <td>10000.000000</td>\n",
       "      <td>10000.000000</td>\n",
       "      <td>10000.000000</td>\n",
       "      <td>10000.000000</td>\n",
       "    </tr>\n",
       "    <tr>\n",
       "      <th>mean</th>\n",
       "      <td>1.237650e+18</td>\n",
       "      <td>175.529987</td>\n",
       "      <td>14.836148</td>\n",
       "      <td>18.619355</td>\n",
       "      <td>17.371931</td>\n",
       "      <td>16.840963</td>\n",
       "      <td>16.583579</td>\n",
       "      <td>16.422833</td>\n",
       "      <td>981.034800</td>\n",
       "      <td>301.0</td>\n",
       "      <td>3.648700</td>\n",
       "      <td>302.380100</td>\n",
       "      <td>1.645022e+18</td>\n",
       "      <td>0.143726</td>\n",
       "      <td>1460.986400</td>\n",
       "      <td>52943.533300</td>\n",
       "      <td>353.069400</td>\n",
       "    </tr>\n",
       "    <tr>\n",
       "      <th>std</th>\n",
       "      <td>0.000000e+00</td>\n",
       "      <td>47.783439</td>\n",
       "      <td>25.212207</td>\n",
       "      <td>0.828656</td>\n",
       "      <td>0.945457</td>\n",
       "      <td>1.067764</td>\n",
       "      <td>1.141805</td>\n",
       "      <td>1.203188</td>\n",
       "      <td>273.305024</td>\n",
       "      <td>0.0</td>\n",
       "      <td>1.666183</td>\n",
       "      <td>162.577763</td>\n",
       "      <td>2.013998e+18</td>\n",
       "      <td>0.388774</td>\n",
       "      <td>1788.778371</td>\n",
       "      <td>1511.150651</td>\n",
       "      <td>206.298149</td>\n",
       "    </tr>\n",
       "    <tr>\n",
       "      <th>min</th>\n",
       "      <td>1.237650e+18</td>\n",
       "      <td>8.235100</td>\n",
       "      <td>-5.382632</td>\n",
       "      <td>12.988970</td>\n",
       "      <td>12.799550</td>\n",
       "      <td>12.431600</td>\n",
       "      <td>11.947210</td>\n",
       "      <td>11.610410</td>\n",
       "      <td>308.000000</td>\n",
       "      <td>301.0</td>\n",
       "      <td>1.000000</td>\n",
       "      <td>11.000000</td>\n",
       "      <td>2.995780e+17</td>\n",
       "      <td>-0.004136</td>\n",
       "      <td>266.000000</td>\n",
       "      <td>51578.000000</td>\n",
       "      <td>1.000000</td>\n",
       "    </tr>\n",
       "    <tr>\n",
       "      <th>25%</th>\n",
       "      <td>1.237650e+18</td>\n",
       "      <td>157.370946</td>\n",
       "      <td>-0.539035</td>\n",
       "      <td>18.178035</td>\n",
       "      <td>16.815100</td>\n",
       "      <td>16.173333</td>\n",
       "      <td>15.853705</td>\n",
       "      <td>15.618285</td>\n",
       "      <td>752.000000</td>\n",
       "      <td>301.0</td>\n",
       "      <td>2.000000</td>\n",
       "      <td>184.000000</td>\n",
       "      <td>3.389248e+17</td>\n",
       "      <td>0.000081</td>\n",
       "      <td>301.000000</td>\n",
       "      <td>51900.000000</td>\n",
       "      <td>186.750000</td>\n",
       "    </tr>\n",
       "    <tr>\n",
       "      <th>50%</th>\n",
       "      <td>1.237650e+18</td>\n",
       "      <td>180.394514</td>\n",
       "      <td>0.404166</td>\n",
       "      <td>18.853095</td>\n",
       "      <td>17.495135</td>\n",
       "      <td>16.858770</td>\n",
       "      <td>16.554985</td>\n",
       "      <td>16.389945</td>\n",
       "      <td>756.000000</td>\n",
       "      <td>301.0</td>\n",
       "      <td>4.000000</td>\n",
       "      <td>299.000000</td>\n",
       "      <td>4.966580e+17</td>\n",
       "      <td>0.042591</td>\n",
       "      <td>441.000000</td>\n",
       "      <td>51997.000000</td>\n",
       "      <td>351.000000</td>\n",
       "    </tr>\n",
       "    <tr>\n",
       "      <th>75%</th>\n",
       "      <td>1.237650e+18</td>\n",
       "      <td>201.547279</td>\n",
       "      <td>35.649397</td>\n",
       "      <td>19.259232</td>\n",
       "      <td>18.010145</td>\n",
       "      <td>17.512675</td>\n",
       "      <td>17.258550</td>\n",
       "      <td>17.141447</td>\n",
       "      <td>1331.000000</td>\n",
       "      <td>301.0</td>\n",
       "      <td>5.000000</td>\n",
       "      <td>414.000000</td>\n",
       "      <td>2.881300e+18</td>\n",
       "      <td>0.092579</td>\n",
       "      <td>2559.000000</td>\n",
       "      <td>54468.000000</td>\n",
       "      <td>510.000000</td>\n",
       "    </tr>\n",
       "    <tr>\n",
       "      <th>max</th>\n",
       "      <td>1.237650e+18</td>\n",
       "      <td>260.884382</td>\n",
       "      <td>68.542265</td>\n",
       "      <td>19.599900</td>\n",
       "      <td>19.918970</td>\n",
       "      <td>24.802040</td>\n",
       "      <td>28.179630</td>\n",
       "      <td>22.833060</td>\n",
       "      <td>1412.000000</td>\n",
       "      <td>301.0</td>\n",
       "      <td>6.000000</td>\n",
       "      <td>768.000000</td>\n",
       "      <td>9.468830e+18</td>\n",
       "      <td>5.353854</td>\n",
       "      <td>8410.000000</td>\n",
       "      <td>57481.000000</td>\n",
       "      <td>1000.000000</td>\n",
       "    </tr>\n",
       "  </tbody>\n",
       "</table>\n",
       "</div>"
      ],
      "text/plain": [
       "              objid            ra           dec             u             g  \\\n",
       "count  1.000000e+04  10000.000000  10000.000000  10000.000000  10000.000000   \n",
       "mean   1.237650e+18    175.529987     14.836148     18.619355     17.371931   \n",
       "std    0.000000e+00     47.783439     25.212207      0.828656      0.945457   \n",
       "min    1.237650e+18      8.235100     -5.382632     12.988970     12.799550   \n",
       "25%    1.237650e+18    157.370946     -0.539035     18.178035     16.815100   \n",
       "50%    1.237650e+18    180.394514      0.404166     18.853095     17.495135   \n",
       "75%    1.237650e+18    201.547279     35.649397     19.259232     18.010145   \n",
       "max    1.237650e+18    260.884382     68.542265     19.599900     19.918970   \n",
       "\n",
       "                  r             i             z           run    rerun  \\\n",
       "count  10000.000000  10000.000000  10000.000000  10000.000000  10000.0   \n",
       "mean      16.840963     16.583579     16.422833    981.034800    301.0   \n",
       "std        1.067764      1.141805      1.203188    273.305024      0.0   \n",
       "min       12.431600     11.947210     11.610410    308.000000    301.0   \n",
       "25%       16.173333     15.853705     15.618285    752.000000    301.0   \n",
       "50%       16.858770     16.554985     16.389945    756.000000    301.0   \n",
       "75%       17.512675     17.258550     17.141447   1331.000000    301.0   \n",
       "max       24.802040     28.179630     22.833060   1412.000000    301.0   \n",
       "\n",
       "             camcol         field     specobjid      redshift         plate  \\\n",
       "count  10000.000000  10000.000000  1.000000e+04  10000.000000  10000.000000   \n",
       "mean       3.648700    302.380100  1.645022e+18      0.143726   1460.986400   \n",
       "std        1.666183    162.577763  2.013998e+18      0.388774   1788.778371   \n",
       "min        1.000000     11.000000  2.995780e+17     -0.004136    266.000000   \n",
       "25%        2.000000    184.000000  3.389248e+17      0.000081    301.000000   \n",
       "50%        4.000000    299.000000  4.966580e+17      0.042591    441.000000   \n",
       "75%        5.000000    414.000000  2.881300e+18      0.092579   2559.000000   \n",
       "max        6.000000    768.000000  9.468830e+18      5.353854   8410.000000   \n",
       "\n",
       "                mjd       fiberid  \n",
       "count  10000.000000  10000.000000  \n",
       "mean   52943.533300    353.069400  \n",
       "std     1511.150651    206.298149  \n",
       "min    51578.000000      1.000000  \n",
       "25%    51900.000000    186.750000  \n",
       "50%    51997.000000    351.000000  \n",
       "75%    54468.000000    510.000000  \n",
       "max    57481.000000   1000.000000  "
      ]
     },
     "execution_count": 5,
     "metadata": {},
     "output_type": "execute_result"
    }
   ],
   "source": [
    "df.describe() # with domain knowledge this is usefull"
   ]
  },
  {
   "cell_type": "code",
   "execution_count": 6,
   "id": "e8a0c479-70c0-46ed-88fe-dcd2347e8b97",
   "metadata": {},
   "outputs": [
    {
     "data": {
      "text/plain": [
       "class\n",
       "GALAXY    4998\n",
       "STAR      4152\n",
       "QSO        850\n",
       "Name: count, dtype: int64"
      ]
     },
     "execution_count": 6,
     "metadata": {},
     "output_type": "execute_result"
    }
   ],
   "source": [
    "df['class'].value_counts()"
   ]
  },
  {
   "cell_type": "raw",
   "id": "f9148223-bc4b-4e44-88fc-f333a5b64e4a",
   "metadata": {},
   "source": [
    "# 50% of object is Galaxy\n",
    "# 41.5% are Star\n",
    "# 8.5% are Quasar"
   ]
  },
  {
   "cell_type": "code",
   "execution_count": 7,
   "id": "f6de7dcb-fff9-491e-b3ec-4498a5e7ed4b",
   "metadata": {},
   "outputs": [
    {
     "data": {
      "text/plain": [
       "Index(['objid', 'ra', 'dec', 'u', 'g', 'r', 'i', 'z', 'run', 'rerun', 'camcol',\n",
       "       'field', 'specobjid', 'class', 'redshift', 'plate', 'mjd', 'fiberid'],\n",
       "      dtype='object')"
      ]
     },
     "execution_count": 7,
     "metadata": {},
     "output_type": "execute_result"
    }
   ],
   "source": [
    "df.columns"
   ]
  },
  {
   "cell_type": "code",
   "execution_count": 8,
   "id": "f29b1c57-b754-4649-b587-0ea92ae91e4b",
   "metadata": {},
   "outputs": [],
   "source": [
    "df.drop(['objid' , 'run', 'rerun', 'camcol', 'field', 'specobjid'], axis =1, inplace=True)"
   ]
  },
  {
   "cell_type": "code",
   "execution_count": 9,
   "id": "9776b99c-eeae-475f-a859-bd6b54b88178",
   "metadata": {},
   "outputs": [
    {
     "data": {
      "text/html": [
       "<div>\n",
       "<style scoped>\n",
       "    .dataframe tbody tr th:only-of-type {\n",
       "        vertical-align: middle;\n",
       "    }\n",
       "\n",
       "    .dataframe tbody tr th {\n",
       "        vertical-align: top;\n",
       "    }\n",
       "\n",
       "    .dataframe thead th {\n",
       "        text-align: right;\n",
       "    }\n",
       "</style>\n",
       "<table border=\"1\" class=\"dataframe\">\n",
       "  <thead>\n",
       "    <tr style=\"text-align: right;\">\n",
       "      <th></th>\n",
       "      <th>ra</th>\n",
       "      <th>dec</th>\n",
       "      <th>u</th>\n",
       "      <th>g</th>\n",
       "      <th>r</th>\n",
       "      <th>i</th>\n",
       "      <th>z</th>\n",
       "      <th>class</th>\n",
       "      <th>redshift</th>\n",
       "      <th>plate</th>\n",
       "      <th>mjd</th>\n",
       "      <th>fiberid</th>\n",
       "    </tr>\n",
       "  </thead>\n",
       "  <tbody>\n",
       "    <tr>\n",
       "      <th>0</th>\n",
       "      <td>183.531326</td>\n",
       "      <td>0.089693</td>\n",
       "      <td>19.47406</td>\n",
       "      <td>17.04240</td>\n",
       "      <td>15.94699</td>\n",
       "      <td>15.50342</td>\n",
       "      <td>15.22531</td>\n",
       "      <td>STAR</td>\n",
       "      <td>-0.000009</td>\n",
       "      <td>3306</td>\n",
       "      <td>54922</td>\n",
       "      <td>491</td>\n",
       "    </tr>\n",
       "    <tr>\n",
       "      <th>1</th>\n",
       "      <td>183.598370</td>\n",
       "      <td>0.135285</td>\n",
       "      <td>18.66280</td>\n",
       "      <td>17.21449</td>\n",
       "      <td>16.67637</td>\n",
       "      <td>16.48922</td>\n",
       "      <td>16.39150</td>\n",
       "      <td>STAR</td>\n",
       "      <td>-0.000055</td>\n",
       "      <td>323</td>\n",
       "      <td>51615</td>\n",
       "      <td>541</td>\n",
       "    </tr>\n",
       "    <tr>\n",
       "      <th>2</th>\n",
       "      <td>183.680207</td>\n",
       "      <td>0.126185</td>\n",
       "      <td>19.38298</td>\n",
       "      <td>18.19169</td>\n",
       "      <td>17.47428</td>\n",
       "      <td>17.08732</td>\n",
       "      <td>16.80125</td>\n",
       "      <td>GALAXY</td>\n",
       "      <td>0.123111</td>\n",
       "      <td>287</td>\n",
       "      <td>52023</td>\n",
       "      <td>513</td>\n",
       "    </tr>\n",
       "    <tr>\n",
       "      <th>3</th>\n",
       "      <td>183.870529</td>\n",
       "      <td>0.049911</td>\n",
       "      <td>17.76536</td>\n",
       "      <td>16.60272</td>\n",
       "      <td>16.16116</td>\n",
       "      <td>15.98233</td>\n",
       "      <td>15.90438</td>\n",
       "      <td>STAR</td>\n",
       "      <td>-0.000111</td>\n",
       "      <td>3306</td>\n",
       "      <td>54922</td>\n",
       "      <td>510</td>\n",
       "    </tr>\n",
       "    <tr>\n",
       "      <th>4</th>\n",
       "      <td>183.883288</td>\n",
       "      <td>0.102557</td>\n",
       "      <td>17.55025</td>\n",
       "      <td>16.26342</td>\n",
       "      <td>16.43869</td>\n",
       "      <td>16.55492</td>\n",
       "      <td>16.61326</td>\n",
       "      <td>STAR</td>\n",
       "      <td>0.000590</td>\n",
       "      <td>3306</td>\n",
       "      <td>54922</td>\n",
       "      <td>512</td>\n",
       "    </tr>\n",
       "  </tbody>\n",
       "</table>\n",
       "</div>"
      ],
      "text/plain": [
       "           ra       dec         u         g         r         i         z  \\\n",
       "0  183.531326  0.089693  19.47406  17.04240  15.94699  15.50342  15.22531   \n",
       "1  183.598370  0.135285  18.66280  17.21449  16.67637  16.48922  16.39150   \n",
       "2  183.680207  0.126185  19.38298  18.19169  17.47428  17.08732  16.80125   \n",
       "3  183.870529  0.049911  17.76536  16.60272  16.16116  15.98233  15.90438   \n",
       "4  183.883288  0.102557  17.55025  16.26342  16.43869  16.55492  16.61326   \n",
       "\n",
       "    class  redshift  plate    mjd  fiberid  \n",
       "0    STAR -0.000009   3306  54922      491  \n",
       "1    STAR -0.000055    323  51615      541  \n",
       "2  GALAXY  0.123111    287  52023      513  \n",
       "3    STAR -0.000111   3306  54922      510  \n",
       "4    STAR  0.000590   3306  54922      512  "
      ]
     },
     "execution_count": 9,
     "metadata": {},
     "output_type": "execute_result"
    }
   ],
   "source": [
    "df.head()"
   ]
  },
  {
   "cell_type": "raw",
   "id": "f3ac601d-814a-4671-8e9a-21534b8da6f5",
   "metadata": {},
   "source": [
    "PLOT BETWEEN REDSHIFT AND CLASS TO SEE HOW THEY ARE RELATED:"
   ]
  },
  {
   "cell_type": "code",
   "execution_count": 10,
   "id": "6dba07d4-aa7b-4419-a048-17d00bd286af",
   "metadata": {},
   "outputs": [
    {
     "name": "stderr",
     "output_type": "stream",
     "text": [
      "C:\\Users\\LENOVO\\AppData\\Local\\Temp\\ipykernel_10312\\434761833.py:2: UserWarning: \n",
      "\n",
      "`distplot` is a deprecated function and will be removed in seaborn v0.14.0.\n",
      "\n",
      "Please adapt your code to use either `displot` (a figure-level function with\n",
      "similar flexibility) or `histplot` (an axes-level function for histograms).\n",
      "\n",
      "For a guide to updating your code to use the new functions, please see\n",
      "https://gist.github.com/mwaskom/de44147ed2974457ad6372750bbe5751\n",
      "\n",
      "  ax = sns.distplot(df[df['class']== 'STAR'].redshift, bins = 30, ax = axes[0])\n",
      "C:\\Users\\LENOVO\\AppData\\Local\\Temp\\ipykernel_10312\\434761833.py:4: UserWarning: \n",
      "\n",
      "`distplot` is a deprecated function and will be removed in seaborn v0.14.0.\n",
      "\n",
      "Please adapt your code to use either `displot` (a figure-level function with\n",
      "similar flexibility) or `histplot` (an axes-level function for histograms).\n",
      "\n",
      "For a guide to updating your code to use the new functions, please see\n",
      "https://gist.github.com/mwaskom/de44147ed2974457ad6372750bbe5751\n",
      "\n",
      "  ax = sns.distplot(df[df['class']== 'GALAXY'].redshift, bins = 30, ax = axes[1])\n",
      "C:\\Users\\LENOVO\\AppData\\Local\\Temp\\ipykernel_10312\\434761833.py:6: UserWarning: \n",
      "\n",
      "`distplot` is a deprecated function and will be removed in seaborn v0.14.0.\n",
      "\n",
      "Please adapt your code to use either `displot` (a figure-level function with\n",
      "similar flexibility) or `histplot` (an axes-level function for histograms).\n",
      "\n",
      "For a guide to updating your code to use the new functions, please see\n",
      "https://gist.github.com/mwaskom/de44147ed2974457ad6372750bbe5751\n",
      "\n",
      "  ax = sns.distplot(df[df['class']== 'QSO'].redshift, bins = 30, ax = axes[2])\n"
     ]
    },
    {
     "data": {
      "text/plain": [
       "Text(0.5, 1.0, 'Quasor')"
      ]
     },
     "execution_count": 10,
     "metadata": {},
     "output_type": "execute_result"
    },
    {
     "data": {
      "image/png": "[encoded data removed]",
      "text/plain": [
       "<Figure size 1600x400 with 3 Axes>"
      ]
     },
     "metadata": {},
     "output_type": "display_data"
    }
   ],
   "source": [
    "fig, axes = plt.subplots(1,3, figsize = (16,4))\n",
    "ax = sns.distplot(df[df['class']== 'STAR'].redshift, bins = 30, ax = axes[0])\n",
    "ax.set_title('Star')\n",
    "ax = sns.distplot(df[df['class']== 'GALAXY'].redshift, bins = 30, ax = axes[1])\n",
    "ax.set_title('Galaxy')\n",
    "ax = sns.distplot(df[df['class']== 'QSO'].redshift, bins = 30, ax = axes[2])\n",
    "ax.set_title('Quasor')"
   ]
  },
  {
   "cell_type": "raw",
   "id": "22326826-b277-4dfc-ae7e-721c20721dcb",
   "metadata": {},
   "source": [
    "Star : Histogram looks Almost like a normal Distribution\n",
    "Galaxy: Histogram looks Right shifted and centered around 0.075\n",
    "Quasor: Histogram is lot uniformly distributedin the range 0-3, in the range of 4-6 it decreases drastically. Here there are Outliers.\n",
    "\n",
    "-> Galaxies and the Quasors will radiate stronger due to their size and physical structures. Due to this, they are visible or they can be observed from further away than the small stars."
   ]
  },
  {
   "cell_type": "raw",
   "id": "fa33b8dd-df5b-410a-9b07-b6d794b63d82",
   "metadata": {},
   "source": [
    "BOX PLOT FOR DEC TO UNDERSTAND THEIR CONNECTION WITH CLASS:"
   ]
  },
  {
   "cell_type": "code",
   "execution_count": 11,
   "id": "6d714344-e586-4a4e-ad56-cab80727049c",
   "metadata": {},
   "outputs": [
    {
     "name": "stderr",
     "output_type": "stream",
     "text": [
      "C:\\Users\\LENOVO\\AppData\\Local\\Temp\\ipykernel_10312\\2199337272.py:1: FutureWarning: \n",
      "\n",
      "Passing `palette` without assigning `hue` is deprecated and will be removed in v0.14.0. Assign the `x` variable to `hue` and set `legend=False` for the same effect.\n",
      "\n",
      "  ax = sns.boxplot(x=df['class'], y=df['dec'], palette = 'coolwarm')\n"
     ]
    },
    {
     "data": {
      "text/plain": [
       "Text(0.5, 1.0, 'dec')"
      ]
     },
     "execution_count": 11,
     "metadata": {},
     "output_type": "execute_result"
    },
    {
     "data": {
      "image/png": "[encoded data removed]",
      "text/plain": [
       "<Figure size 640x480 with 1 Axes>"
      ]
     },
     "metadata": {},
     "output_type": "display_data"
    }
   ],
   "source": [
    "ax = sns.boxplot(x=df['class'], y=df['dec'], palette = 'coolwarm')\n",
    "ax.set_title('dec')"
   ]
  },
  {
   "cell_type": "code",
   "execution_count": 12,
   "id": "c6d73e78-f48e-4c29-a759-025d789b0431",
   "metadata": {},
   "outputs": [
    {
     "data": {
      "image/png": "[encoded data removed]",
      "text/plain": [
       "<Figure size 1600x400 with 6 Axes>"
      ]
     },
     "metadata": {},
     "output_type": "display_data"
    }
   ],
   "source": [
    "# u g r i z represent what?\n",
    "\n",
    "\n",
    "fig, axes = plt.subplots(1,3, figsize=(16,4))\n",
    "fig.set_dpi(100)\n",
    "ax = sns.heatmap(df[df['class']=='STAR'][['u','r','g','i', 'z']].corr(), ax = axes[0], cmap = 'coolwarm', annot = True)\n",
    "ax = ax.set_title('Star')\n",
    "ax = sns.heatmap(df[df['class']=='GALAXY'][['u','r','g','i', 'z']].corr(), ax = axes[1], cmap = 'coolwarm',annot = True)\n",
    "ax = ax.set_title('Galaxy')\n",
    "ax = sns.heatmap(df[df['class']=='QSO'][['u','r','g','i', 'z']].corr(), ax = axes[2], cmap = 'coolwarm',annot = True)\n",
    "ax = ax.set_title('Quasar')"
   ]
  },
  {
   "cell_type": "code",
   "execution_count": 13,
   "id": "936f92a4-3e3c-4f64-953a-0479f2aa48b4",
   "metadata": {},
   "outputs": [
    {
     "data": {
      "text/plain": [
       "Text(0.5, 1.0, 'Equatorial Co-ordinates')"
      ]
     },
     "execution_count": 13,
     "metadata": {},
     "output_type": "execute_result"
    },
    {
     "data": {
      "image/png": "[encoded data removed]",
      "text/plain": [
       "<Figure size 1105.38x500 with 1 Axes>"
      ]
     },
     "metadata": {},
     "output_type": "display_data"
    }
   ],
   "source": [
    "sns.lmplot(x = 'ra', y = 'dec', data = df, hue = 'class', fit_reg=False, aspect = 2)\n",
    "plt.title('Equatorial Co-ordinates')"
   ]
  },
  {
   "cell_type": "code",
   "execution_count": 14,
   "id": "202da205-63bb-42fa-b271-ff7042c2bc0f",
   "metadata": {},
   "outputs": [],
   "source": [
    "df_encode = df.copy()"
   ]
  },
  {
   "cell_type": "code",
   "execution_count": 15,
   "id": "f957ee8d-16d0-419f-9c75-d7becc4b8cf4",
   "metadata": {},
   "outputs": [],
   "source": [
    "mapp = {'STAR':0, 'GALAXY':1, 'QSO':2}\n",
    "df_encode['class'] = df_encode['class'].map(mapp)"
   ]
  },
  {
   "cell_type": "raw",
   "id": "2cd84826-8bbd-40bc-9a7e-1f93dcbd28b7",
   "metadata": {},
   "source": [
    "HW: # I am applying the PCA on the column u,g,r,i,z and you have to do the same exercise without performing a PCA on the column u,g,r,i,z"
   ]
  },
  {
   "cell_type": "code",
   "execution_count": 16,
   "id": "55e4623c-c990-468c-b2ee-c6dabd89508c",
   "metadata": {},
   "outputs": [
    {
     "data": {
      "text/plain": [
       "array([[-1.50720246e+00,  1.37729303e+00, -2.65118562e-01],\n",
       "       [-1.95757561e-01,  2.84104723e-02, -1.55695489e-01],\n",
       "       [ 1.29760442e+00,  5.90023138e-01,  1.40338453e-01],\n",
       "       ...,\n",
       "       [ 1.48072524e+00, -3.88717075e-01, -1.26646283e-01],\n",
       "       [ 1.39208832e+00, -1.17003627e-01,  3.88182819e-02],\n",
       "       [-9.36205074e-01,  1.11321472e+00, -1.12953950e-03]])"
      ]
     },
     "execution_count": 16,
     "metadata": {},
     "output_type": "execute_result"
    }
   ],
   "source": [
    "pca = PCA(n_components=3)\n",
    "ugriz = pca.fit_transform(df_encode[['u','r','g','i', 'z']])\n",
    "\n",
    "ugriz"
   ]
  },
  {
   "cell_type": "code",
   "execution_count": 17,
   "id": "eb29b07d-506e-451d-9fa3-e51d8cfc0ff0",
   "metadata": {},
   "outputs": [
    {
     "data": {
      "text/html": [
       "<div>\n",
       "<style scoped>\n",
       "    .dataframe tbody tr th:only-of-type {\n",
       "        vertical-align: middle;\n",
       "    }\n",
       "\n",
       "    .dataframe tbody tr th {\n",
       "        vertical-align: top;\n",
       "    }\n",
       "\n",
       "    .dataframe thead th {\n",
       "        text-align: right;\n",
       "    }\n",
       "</style>\n",
       "<table border=\"1\" class=\"dataframe\">\n",
       "  <thead>\n",
       "    <tr style=\"text-align: right;\">\n",
       "      <th></th>\n",
       "      <th>0</th>\n",
       "      <th>1</th>\n",
       "      <th>2</th>\n",
       "    </tr>\n",
       "  </thead>\n",
       "  <tbody>\n",
       "    <tr>\n",
       "      <th>0</th>\n",
       "      <td>-1.507202</td>\n",
       "      <td>1.377293</td>\n",
       "      <td>-0.265119</td>\n",
       "    </tr>\n",
       "    <tr>\n",
       "      <th>1</th>\n",
       "      <td>-0.195758</td>\n",
       "      <td>0.028410</td>\n",
       "      <td>-0.155695</td>\n",
       "    </tr>\n",
       "    <tr>\n",
       "      <th>2</th>\n",
       "      <td>1.297604</td>\n",
       "      <td>0.590023</td>\n",
       "      <td>0.140338</td>\n",
       "    </tr>\n",
       "    <tr>\n",
       "      <th>3</th>\n",
       "      <td>-1.446117</td>\n",
       "      <td>-0.566685</td>\n",
       "      <td>-0.009272</td>\n",
       "    </tr>\n",
       "    <tr>\n",
       "      <th>4</th>\n",
       "      <td>-0.849271</td>\n",
       "      <td>-1.287505</td>\n",
       "      <td>-0.397689</td>\n",
       "    </tr>\n",
       "    <tr>\n",
       "      <th>...</th>\n",
       "      <td>...</td>\n",
       "      <td>...</td>\n",
       "      <td>...</td>\n",
       "    </tr>\n",
       "    <tr>\n",
       "      <th>9995</th>\n",
       "      <td>0.222959</td>\n",
       "      <td>0.134301</td>\n",
       "      <td>-0.057857</td>\n",
       "    </tr>\n",
       "    <tr>\n",
       "      <th>9996</th>\n",
       "      <td>0.259171</td>\n",
       "      <td>-0.415333</td>\n",
       "      <td>0.158501</td>\n",
       "    </tr>\n",
       "    <tr>\n",
       "      <th>9997</th>\n",
       "      <td>1.480725</td>\n",
       "      <td>-0.388717</td>\n",
       "      <td>-0.126646</td>\n",
       "    </tr>\n",
       "    <tr>\n",
       "      <th>9998</th>\n",
       "      <td>1.392088</td>\n",
       "      <td>-0.117004</td>\n",
       "      <td>0.038818</td>\n",
       "    </tr>\n",
       "    <tr>\n",
       "      <th>9999</th>\n",
       "      <td>-0.936205</td>\n",
       "      <td>1.113215</td>\n",
       "      <td>-0.001130</td>\n",
       "    </tr>\n",
       "  </tbody>\n",
       "</table>\n",
       "<p>10000 rows × 3 columns</p>\n",
       "</div>"
      ],
      "text/plain": [
       "             0         1         2\n",
       "0    -1.507202  1.377293 -0.265119\n",
       "1    -0.195758  0.028410 -0.155695\n",
       "2     1.297604  0.590023  0.140338\n",
       "3    -1.446117 -0.566685 -0.009272\n",
       "4    -0.849271 -1.287505 -0.397689\n",
       "...        ...       ...       ...\n",
       "9995  0.222959  0.134301 -0.057857\n",
       "9996  0.259171 -0.415333  0.158501\n",
       "9997  1.480725 -0.388717 -0.126646\n",
       "9998  1.392088 -0.117004  0.038818\n",
       "9999 -0.936205  1.113215 -0.001130\n",
       "\n",
       "[10000 rows x 3 columns]"
      ]
     },
     "execution_count": 17,
     "metadata": {},
     "output_type": "execute_result"
    }
   ],
   "source": [
    "ugriz = pd.DataFrame(ugriz)\n",
    "ugriz"
   ]
  },
  {
   "cell_type": "code",
   "execution_count": 18,
   "id": "77b0b4f4-a7a7-4386-8f5d-5148e901dacf",
   "metadata": {},
   "outputs": [
    {
     "data": {
      "text/html": [
       "<div>\n",
       "<style scoped>\n",
       "    .dataframe tbody tr th:only-of-type {\n",
       "        vertical-align: middle;\n",
       "    }\n",
       "\n",
       "    .dataframe tbody tr th {\n",
       "        vertical-align: top;\n",
       "    }\n",
       "\n",
       "    .dataframe thead th {\n",
       "        text-align: right;\n",
       "    }\n",
       "</style>\n",
       "<table border=\"1\" class=\"dataframe\">\n",
       "  <thead>\n",
       "    <tr style=\"text-align: right;\">\n",
       "      <th></th>\n",
       "      <th>ra</th>\n",
       "      <th>dec</th>\n",
       "      <th>u</th>\n",
       "      <th>g</th>\n",
       "      <th>r</th>\n",
       "      <th>i</th>\n",
       "      <th>z</th>\n",
       "      <th>class</th>\n",
       "      <th>redshift</th>\n",
       "      <th>plate</th>\n",
       "      <th>mjd</th>\n",
       "      <th>fiberid</th>\n",
       "      <th>0</th>\n",
       "      <th>1</th>\n",
       "      <th>2</th>\n",
       "    </tr>\n",
       "  </thead>\n",
       "  <tbody>\n",
       "    <tr>\n",
       "      <th>0</th>\n",
       "      <td>183.531326</td>\n",
       "      <td>0.089693</td>\n",
       "      <td>19.47406</td>\n",
       "      <td>17.04240</td>\n",
       "      <td>15.94699</td>\n",
       "      <td>15.50342</td>\n",
       "      <td>15.22531</td>\n",
       "      <td>0</td>\n",
       "      <td>-0.000009</td>\n",
       "      <td>3306</td>\n",
       "      <td>54922</td>\n",
       "      <td>491</td>\n",
       "      <td>-1.507202</td>\n",
       "      <td>1.377293</td>\n",
       "      <td>-0.265119</td>\n",
       "    </tr>\n",
       "    <tr>\n",
       "      <th>1</th>\n",
       "      <td>183.598370</td>\n",
       "      <td>0.135285</td>\n",
       "      <td>18.66280</td>\n",
       "      <td>17.21449</td>\n",
       "      <td>16.67637</td>\n",
       "      <td>16.48922</td>\n",
       "      <td>16.39150</td>\n",
       "      <td>0</td>\n",
       "      <td>-0.000055</td>\n",
       "      <td>323</td>\n",
       "      <td>51615</td>\n",
       "      <td>541</td>\n",
       "      <td>-0.195758</td>\n",
       "      <td>0.028410</td>\n",
       "      <td>-0.155695</td>\n",
       "    </tr>\n",
       "    <tr>\n",
       "      <th>2</th>\n",
       "      <td>183.680207</td>\n",
       "      <td>0.126185</td>\n",
       "      <td>19.38298</td>\n",
       "      <td>18.19169</td>\n",
       "      <td>17.47428</td>\n",
       "      <td>17.08732</td>\n",
       "      <td>16.80125</td>\n",
       "      <td>1</td>\n",
       "      <td>0.123111</td>\n",
       "      <td>287</td>\n",
       "      <td>52023</td>\n",
       "      <td>513</td>\n",
       "      <td>1.297604</td>\n",
       "      <td>0.590023</td>\n",
       "      <td>0.140338</td>\n",
       "    </tr>\n",
       "    <tr>\n",
       "      <th>3</th>\n",
       "      <td>183.870529</td>\n",
       "      <td>0.049911</td>\n",
       "      <td>17.76536</td>\n",
       "      <td>16.60272</td>\n",
       "      <td>16.16116</td>\n",
       "      <td>15.98233</td>\n",
       "      <td>15.90438</td>\n",
       "      <td>0</td>\n",
       "      <td>-0.000111</td>\n",
       "      <td>3306</td>\n",
       "      <td>54922</td>\n",
       "      <td>510</td>\n",
       "      <td>-1.446117</td>\n",
       "      <td>-0.566685</td>\n",
       "      <td>-0.009272</td>\n",
       "    </tr>\n",
       "    <tr>\n",
       "      <th>4</th>\n",
       "      <td>183.883288</td>\n",
       "      <td>0.102557</td>\n",
       "      <td>17.55025</td>\n",
       "      <td>16.26342</td>\n",
       "      <td>16.43869</td>\n",
       "      <td>16.55492</td>\n",
       "      <td>16.61326</td>\n",
       "      <td>0</td>\n",
       "      <td>0.000590</td>\n",
       "      <td>3306</td>\n",
       "      <td>54922</td>\n",
       "      <td>512</td>\n",
       "      <td>-0.849271</td>\n",
       "      <td>-1.287505</td>\n",
       "      <td>-0.397689</td>\n",
       "    </tr>\n",
       "    <tr>\n",
       "      <th>...</th>\n",
       "      <td>...</td>\n",
       "      <td>...</td>\n",
       "      <td>...</td>\n",
       "      <td>...</td>\n",
       "      <td>...</td>\n",
       "      <td>...</td>\n",
       "      <td>...</td>\n",
       "      <td>...</td>\n",
       "      <td>...</td>\n",
       "      <td>...</td>\n",
       "      <td>...</td>\n",
       "      <td>...</td>\n",
       "      <td>...</td>\n",
       "      <td>...</td>\n",
       "      <td>...</td>\n",
       "    </tr>\n",
       "    <tr>\n",
       "      <th>9995</th>\n",
       "      <td>131.316413</td>\n",
       "      <td>51.539547</td>\n",
       "      <td>18.81777</td>\n",
       "      <td>17.47053</td>\n",
       "      <td>16.91508</td>\n",
       "      <td>16.68305</td>\n",
       "      <td>16.50570</td>\n",
       "      <td>1</td>\n",
       "      <td>0.027583</td>\n",
       "      <td>447</td>\n",
       "      <td>51877</td>\n",
       "      <td>246</td>\n",
       "      <td>0.222959</td>\n",
       "      <td>0.134301</td>\n",
       "      <td>-0.057857</td>\n",
       "    </tr>\n",
       "    <tr>\n",
       "      <th>9996</th>\n",
       "      <td>131.306083</td>\n",
       "      <td>51.671341</td>\n",
       "      <td>18.27255</td>\n",
       "      <td>17.43849</td>\n",
       "      <td>17.07692</td>\n",
       "      <td>16.71661</td>\n",
       "      <td>16.69897</td>\n",
       "      <td>1</td>\n",
       "      <td>0.117772</td>\n",
       "      <td>447</td>\n",
       "      <td>51877</td>\n",
       "      <td>228</td>\n",
       "      <td>0.259171</td>\n",
       "      <td>-0.415333</td>\n",
       "      <td>0.158501</td>\n",
       "    </tr>\n",
       "    <tr>\n",
       "      <th>9997</th>\n",
       "      <td>131.552562</td>\n",
       "      <td>51.666986</td>\n",
       "      <td>18.75818</td>\n",
       "      <td>17.77784</td>\n",
       "      <td>17.51872</td>\n",
       "      <td>17.43302</td>\n",
       "      <td>17.42048</td>\n",
       "      <td>0</td>\n",
       "      <td>-0.000402</td>\n",
       "      <td>7303</td>\n",
       "      <td>57013</td>\n",
       "      <td>622</td>\n",
       "      <td>1.480725</td>\n",
       "      <td>-0.388717</td>\n",
       "      <td>-0.126646</td>\n",
       "    </tr>\n",
       "    <tr>\n",
       "      <th>9998</th>\n",
       "      <td>131.477151</td>\n",
       "      <td>51.753068</td>\n",
       "      <td>18.88287</td>\n",
       "      <td>17.91068</td>\n",
       "      <td>17.53152</td>\n",
       "      <td>17.36284</td>\n",
       "      <td>17.13988</td>\n",
       "      <td>1</td>\n",
       "      <td>0.014019</td>\n",
       "      <td>447</td>\n",
       "      <td>51877</td>\n",
       "      <td>229</td>\n",
       "      <td>1.392088</td>\n",
       "      <td>-0.117004</td>\n",
       "      <td>0.038818</td>\n",
       "    </tr>\n",
       "    <tr>\n",
       "      <th>9999</th>\n",
       "      <td>131.665012</td>\n",
       "      <td>51.805307</td>\n",
       "      <td>19.27586</td>\n",
       "      <td>17.37829</td>\n",
       "      <td>16.30542</td>\n",
       "      <td>15.83548</td>\n",
       "      <td>15.50588</td>\n",
       "      <td>1</td>\n",
       "      <td>0.118417</td>\n",
       "      <td>447</td>\n",
       "      <td>51877</td>\n",
       "      <td>233</td>\n",
       "      <td>-0.936205</td>\n",
       "      <td>1.113215</td>\n",
       "      <td>-0.001130</td>\n",
       "    </tr>\n",
       "  </tbody>\n",
       "</table>\n",
       "<p>10000 rows × 15 columns</p>\n",
       "</div>"
      ],
      "text/plain": [
       "              ra        dec         u         g         r         i         z  \\\n",
       "0     183.531326   0.089693  19.47406  17.04240  15.94699  15.50342  15.22531   \n",
       "1     183.598370   0.135285  18.66280  17.21449  16.67637  16.48922  16.39150   \n",
       "2     183.680207   0.126185  19.38298  18.19169  17.47428  17.08732  16.80125   \n",
       "3     183.870529   0.049911  17.76536  16.60272  16.16116  15.98233  15.90438   \n",
       "4     183.883288   0.102557  17.55025  16.26342  16.43869  16.55492  16.61326   \n",
       "...          ...        ...       ...       ...       ...       ...       ...   \n",
       "9995  131.316413  51.539547  18.81777  17.47053  16.91508  16.68305  16.50570   \n",
       "9996  131.306083  51.671341  18.27255  17.43849  17.07692  16.71661  16.69897   \n",
       "9997  131.552562  51.666986  18.75818  17.77784  17.51872  17.43302  17.42048   \n",
       "9998  131.477151  51.753068  18.88287  17.91068  17.53152  17.36284  17.13988   \n",
       "9999  131.665012  51.805307  19.27586  17.37829  16.30542  15.83548  15.50588   \n",
       "\n",
       "      class  redshift  plate    mjd  fiberid         0         1         2  \n",
       "0         0 -0.000009   3306  54922      491 -1.507202  1.377293 -0.265119  \n",
       "1         0 -0.000055    323  51615      541 -0.195758  0.028410 -0.155695  \n",
       "2         1  0.123111    287  52023      513  1.297604  0.590023  0.140338  \n",
       "3         0 -0.000111   3306  54922      510 -1.446117 -0.566685 -0.009272  \n",
       "4         0  0.000590   3306  54922      512 -0.849271 -1.287505 -0.397689  \n",
       "...     ...       ...    ...    ...      ...       ...       ...       ...  \n",
       "9995      1  0.027583    447  51877      246  0.222959  0.134301 -0.057857  \n",
       "9996      1  0.117772    447  51877      228  0.259171 -0.415333  0.158501  \n",
       "9997      0 -0.000402   7303  57013      622  1.480725 -0.388717 -0.126646  \n",
       "9998      1  0.014019    447  51877      229  1.392088 -0.117004  0.038818  \n",
       "9999      1  0.118417    447  51877      233 -0.936205  1.113215 -0.001130  \n",
       "\n",
       "[10000 rows x 15 columns]"
      ]
     },
     "execution_count": 18,
     "metadata": {},
     "output_type": "execute_result"
    }
   ],
   "source": [
    "df_encode = pd.concat([df_encode, ugriz], axis=1)\n",
    "df_encode"
   ]
  },
  {
   "cell_type": "code",
   "execution_count": null,
   "id": "ed5e1f33-2fc1-461f-b8cf-67e34987400a",
   "metadata": {},
   "outputs": [],
   "source": []
  },
  {
   "cell_type": "code",
   "execution_count": 19,
   "id": "f346bba9-8d94-47bb-a276-7e2ea0a42e36",
   "metadata": {},
   "outputs": [
    {
     "data": {
      "text/html": [
       "<div>\n",
       "<style scoped>\n",
       "    .dataframe tbody tr th:only-of-type {\n",
       "        vertical-align: middle;\n",
       "    }\n",
       "\n",
       "    .dataframe tbody tr th {\n",
       "        vertical-align: top;\n",
       "    }\n",
       "\n",
       "    .dataframe thead th {\n",
       "        text-align: right;\n",
       "    }\n",
       "</style>\n",
       "<table border=\"1\" class=\"dataframe\">\n",
       "  <thead>\n",
       "    <tr style=\"text-align: right;\">\n",
       "      <th></th>\n",
       "      <th>ra</th>\n",
       "      <th>dec</th>\n",
       "      <th>class</th>\n",
       "      <th>redshift</th>\n",
       "      <th>plate</th>\n",
       "      <th>mjd</th>\n",
       "      <th>fiberid</th>\n",
       "      <th>PCA1</th>\n",
       "      <th>PCA2</th>\n",
       "      <th>PCA3</th>\n",
       "    </tr>\n",
       "  </thead>\n",
       "  <tbody>\n",
       "    <tr>\n",
       "      <th>0</th>\n",
       "      <td>183.531326</td>\n",
       "      <td>0.089693</td>\n",
       "      <td>0</td>\n",
       "      <td>-0.000009</td>\n",
       "      <td>3306</td>\n",
       "      <td>54922</td>\n",
       "      <td>491</td>\n",
       "      <td>-1.507202</td>\n",
       "      <td>1.377293</td>\n",
       "      <td>-0.265119</td>\n",
       "    </tr>\n",
       "    <tr>\n",
       "      <th>1</th>\n",
       "      <td>183.598370</td>\n",
       "      <td>0.135285</td>\n",
       "      <td>0</td>\n",
       "      <td>-0.000055</td>\n",
       "      <td>323</td>\n",
       "      <td>51615</td>\n",
       "      <td>541</td>\n",
       "      <td>-0.195758</td>\n",
       "      <td>0.028410</td>\n",
       "      <td>-0.155695</td>\n",
       "    </tr>\n",
       "    <tr>\n",
       "      <th>2</th>\n",
       "      <td>183.680207</td>\n",
       "      <td>0.126185</td>\n",
       "      <td>1</td>\n",
       "      <td>0.123111</td>\n",
       "      <td>287</td>\n",
       "      <td>52023</td>\n",
       "      <td>513</td>\n",
       "      <td>1.297604</td>\n",
       "      <td>0.590023</td>\n",
       "      <td>0.140338</td>\n",
       "    </tr>\n",
       "    <tr>\n",
       "      <th>3</th>\n",
       "      <td>183.870529</td>\n",
       "      <td>0.049911</td>\n",
       "      <td>0</td>\n",
       "      <td>-0.000111</td>\n",
       "      <td>3306</td>\n",
       "      <td>54922</td>\n",
       "      <td>510</td>\n",
       "      <td>-1.446117</td>\n",
       "      <td>-0.566685</td>\n",
       "      <td>-0.009272</td>\n",
       "    </tr>\n",
       "    <tr>\n",
       "      <th>4</th>\n",
       "      <td>183.883288</td>\n",
       "      <td>0.102557</td>\n",
       "      <td>0</td>\n",
       "      <td>0.000590</td>\n",
       "      <td>3306</td>\n",
       "      <td>54922</td>\n",
       "      <td>512</td>\n",
       "      <td>-0.849271</td>\n",
       "      <td>-1.287505</td>\n",
       "      <td>-0.397689</td>\n",
       "    </tr>\n",
       "  </tbody>\n",
       "</table>\n",
       "</div>"
      ],
      "text/plain": [
       "           ra       dec  class  redshift  plate    mjd  fiberid      PCA1  \\\n",
       "0  183.531326  0.089693      0 -0.000009   3306  54922      491 -1.507202   \n",
       "1  183.598370  0.135285      0 -0.000055    323  51615      541 -0.195758   \n",
       "2  183.680207  0.126185      1  0.123111    287  52023      513  1.297604   \n",
       "3  183.870529  0.049911      0 -0.000111   3306  54922      510 -1.446117   \n",
       "4  183.883288  0.102557      0  0.000590   3306  54922      512 -0.849271   \n",
       "\n",
       "       PCA2      PCA3  \n",
       "0  1.377293 -0.265119  \n",
       "1  0.028410 -0.155695  \n",
       "2  0.590023  0.140338  \n",
       "3 -0.566685 -0.009272  \n",
       "4 -1.287505 -0.397689  "
      ]
     },
     "execution_count": 19,
     "metadata": {},
     "output_type": "execute_result"
    }
   ],
   "source": [
    "\n",
    "df_encode.rename({0:'PCA1', 1:'PCA2', 2: 'PCA3'}, axis=1, inplace=True)\n",
    "df_encode.drop(['u','r','g','i', 'z'], axis = 1, inplace = True)\n",
    "df_encode.head()"
   ]
  },
  {
   "cell_type": "code",
   "execution_count": null,
   "id": "a25b2b4c-e696-43d5-9033-95181d36ce10",
   "metadata": {},
   "outputs": [],
   "source": []
  },
  {
   "cell_type": "code",
   "execution_count": 20,
   "id": "bc61a9f1-4443-4440-bf51-20fff50e43ab",
   "metadata": {},
   "outputs": [],
   "source": [
    "from sklearn.model_selection import train_test_split\n",
    "from sklearn.linear_model import LogisticRegression\n",
    "from sklearn.model_selection import cross_val_score, KFold\n",
    "from sklearn.metrics import accuracy_score, confusion_matrix, classification_report, roc_curve\n",
    "from sklearn.preprocessing import MinMaxScaler"
   ]
  },
  {
   "cell_type": "code",
   "execution_count": 21,
   "id": "9cf84b67-b6b3-47f6-988f-2ef6ef940076",
   "metadata": {},
   "outputs": [],
   "source": [
    "scaler = MinMaxScaler()\n",
    "sdss = scaler.fit_transform(df_encode.drop('class', axis = 1))"
   ]
  },
  {
   "cell_type": "code",
   "execution_count": 22,
   "id": "c07eefe3-c1af-4238-b3fd-3d7e38fc72e0",
   "metadata": {},
   "outputs": [],
   "source": [
    "X_train, X_test, y_train, y_test = train_test_split(sdss, df_encode['class'], test_size=0.3, random_state=42)"
   ]
  },
  {
   "cell_type": "code",
   "execution_count": 23,
   "id": "64cc84a7-21c3-4f99-b159-8923e46bb0a5",
   "metadata": {},
   "outputs": [
    {
     "data": {
      "text/plain": [
       "(7000, 9)"
      ]
     },
     "execution_count": 23,
     "metadata": {},
     "output_type": "execute_result"
    }
   ],
   "source": [
    "X_train.shape"
   ]
  },
  {
   "cell_type": "markdown",
   "id": "8da3b12a-9638-4802-8e09-91452088f566",
   "metadata": {},
   "source": [
    "# Logistic Regression"
   ]
  },
  {
   "cell_type": "code",
   "execution_count": 24,
   "id": "61df1640-e2ec-4bda-959c-183552a6c738",
   "metadata": {},
   "outputs": [],
   "source": [
    "from sklearn.datasets import make_classification\n",
    "from sklearn.metrics import confusion_matrix, ConfusionMatrixDisplay\n",
    "\n",
    "\n",
    "def eval_model(y_train, y_train_pred, y_test, y_test_pred):\n",
    "    print('Evaluation on Train data: ')\n",
    "    print(confusion_matrix(y_train, y_train_pred))\n",
    "    print(classification_report(y_train, y_train_pred))\n",
    "    print('*'*50)\n",
    "    print('Evaluation on Test data: ')\n",
    "    print(confusion_matrix(y_test, y_test_pred))\n",
    "    print(classification_report(y_test, y_test_pred))\n",
    "\n",
    "\n"
   ]
  },
  {
   "cell_type": "raw",
   "id": "9e7e2170-6eee-4f48-8900-6b83dd9c5bd0",
   "metadata": {},
   "source": [
    "# To check my model overfitting or not! ie,. if train model accuracy and testing lower accuracy then overfits. High variance and low bias."
   ]
  },
  {
   "cell_type": "code",
   "execution_count": 25,
   "id": "008fbbfa-4ba8-405a-b479-77a9cac20b20",
   "metadata": {},
   "outputs": [
    {
     "name": "stdout",
     "output_type": "stream",
     "text": [
      "Training time 0.36\n",
      "Accuracy Score 91.57 %\n"
     ]
    }
   ],
   "source": [
    "import time\n",
    "\n",
    "start_train = time.time()\n",
    "logreg = LogisticRegression()\n",
    "logreg.fit(X_train, y_train)\n",
    "end_train = time.time()\n",
    "\n",
    "logreg_train = end_train-start_train\n",
    "print('Training time', round(logreg_train, 2) )\n",
    "\n",
    "pred = logreg.predict(X_test)\n",
    "accuracy_logreg = accuracy_score(y_test, pred) * 100\n",
    "\n",
    "print('Accuracy Score', round(accuracy_logreg,2), '%')"
   ]
  },
  {
   "cell_type": "code",
   "execution_count": 26,
   "id": "dbcc5ff9-ca24-4ca4-ba9d-5a7d78c1809f",
   "metadata": {},
   "outputs": [
    {
     "name": "stdout",
     "output_type": "stream",
     "text": [
      "Evaluation on Train data: \n",
      "[[2629  301    5]\n",
      " [ 162 3331    8]\n",
      " [  18   80  466]]\n",
      "              precision    recall  f1-score   support\n",
      "\n",
      "           0       0.94      0.90      0.92      2935\n",
      "           1       0.90      0.95      0.92      3501\n",
      "           2       0.97      0.83      0.89       564\n",
      "\n",
      "    accuracy                           0.92      7000\n",
      "   macro avg       0.94      0.89      0.91      7000\n",
      "weighted avg       0.92      0.92      0.92      7000\n",
      "\n",
      "**************************************************\n",
      "Evaluation on Test data: \n",
      "[[1073  142    2]\n",
      " [  70 1427    0]\n",
      " [   9   30  247]]\n",
      "              precision    recall  f1-score   support\n",
      "\n",
      "           0       0.93      0.88      0.91      1217\n",
      "           1       0.89      0.95      0.92      1497\n",
      "           2       0.99      0.86      0.92       286\n",
      "\n",
      "    accuracy                           0.92      3000\n",
      "   macro avg       0.94      0.90      0.92      3000\n",
      "weighted avg       0.92      0.92      0.92      3000\n",
      "\n"
     ]
    }
   ],
   "source": [
    "train_pred = logreg.predict(X_train)\n",
    "eval_model(y_train, train_pred, y_test, pred)"
   ]
  },
  {
   "cell_type": "markdown",
   "id": "19bbdcc7-e31d-409b-8b2d-043fe7c0ca76",
   "metadata": {},
   "source": [
    "# KNN Algorithm"
   ]
  },
  {
   "cell_type": "code",
   "execution_count": 27,
   "id": "5854fc50-a6f5-410d-be3d-0999e3a52804",
   "metadata": {},
   "outputs": [],
   "source": [
    "from sklearn.neighbors import KNeighborsClassifier"
   ]
  },
  {
   "cell_type": "code",
   "execution_count": 28,
   "id": "d58da09d-f080-449e-9862-f4170e007aeb",
   "metadata": {},
   "outputs": [
    {
     "name": "stdout",
     "output_type": "stream",
     "text": [
      "Training time 0.25\n",
      "Accuracy Score 93.63 %\n"
     ]
    }
   ],
   "source": [
    "\n",
    "\n",
    "start_train = time.time()\n",
    "neigh = KNeighborsClassifier(n_neighbors=3)\n",
    "neigh.fit(X_train, y_train)\n",
    "end_train = time.time()\n",
    "\n",
    "neigh_train = end_train-start_train\n",
    "print('Training time', round(neigh_train, 2) )\n",
    "\n",
    "pred = neigh.predict(X_test)\n",
    "accuracy_neigh = accuracy_score(y_test, pred) * 100\n",
    "\n",
    "print('Accuracy Score', round(accuracy_neigh,2), '%')"
   ]
  },
  {
   "cell_type": "raw",
   "id": "c0426df7-cac0-48f0-ab68-d93b5a538a75",
   "metadata": {},
   "source": [
    "# knn - computationally efficient (1/8th of time) and have better accuracy than logistic algorithm in this case."
   ]
  },
  {
   "cell_type": "code",
   "execution_count": 29,
   "id": "f6ad6a4e-ee92-4d81-bd3f-b200e939df8a",
   "metadata": {},
   "outputs": [
    {
     "name": "stdout",
     "output_type": "stream",
     "text": [
      "Training time 0.002\n",
      "Accuracy Score 98.0 %\n"
     ]
    }
   ],
   "source": [
    "from sklearn.naive_bayes import GaussianNB\n",
    "\n",
    "start_train = time.time()\n",
    "gnb = GaussianNB()\n",
    "gnb.fit(X_train, y_train)\n",
    "end_train = time.time()\n",
    "\n",
    "gnb_train = end_train-start_train\n",
    "print('Training time', round(gnb_train, 4) )\n",
    "\n",
    "pred = gnb.predict(X_test)\n",
    "accuracy_gnb = accuracy_score(y_test, pred) * 100\n",
    "\n",
    "print('Accuracy Score', round(accuracy_gnb,2), '%')\n"
   ]
  },
  {
   "cell_type": "raw",
   "id": "67f19f27-8044-43f4-af6b-39668d45267a",
   "metadata": {},
   "source": [
    "# Explantion for less time and accuracy : it is a simple probabilistic algorithm\n",
    "Time complexity is linear here."
   ]
  },
  {
   "cell_type": "code",
   "execution_count": 30,
   "id": "754f83cc-87b5-415a-9ff5-fa42215e766c",
   "metadata": {},
   "outputs": [
    {
     "name": "stdout",
     "output_type": "stream",
     "text": [
      "Evaluation on Train data: \n",
      "[[2904   17   14]\n",
      " [  14 3391   96]\n",
      " [   1   28  535]]\n",
      "              precision    recall  f1-score   support\n",
      "\n",
      "           0       0.99      0.99      0.99      2935\n",
      "           1       0.99      0.97      0.98      3501\n",
      "           2       0.83      0.95      0.89       564\n",
      "\n",
      "    accuracy                           0.98      7000\n",
      "   macro avg       0.94      0.97      0.95      7000\n",
      "weighted avg       0.98      0.98      0.98      7000\n",
      "\n",
      "**************************************************\n",
      "Evaluation on Test data: \n",
      "[[1208    3    6]\n",
      " [   8 1456   33]\n",
      " [   0   10  276]]\n",
      "              precision    recall  f1-score   support\n",
      "\n",
      "           0       0.99      0.99      0.99      1217\n",
      "           1       0.99      0.97      0.98      1497\n",
      "           2       0.88      0.97      0.92       286\n",
      "\n",
      "    accuracy                           0.98      3000\n",
      "   macro avg       0.95      0.98      0.96      3000\n",
      "weighted avg       0.98      0.98      0.98      3000\n",
      "\n"
     ]
    }
   ],
   "source": [
    "train_pred = gnb.predict(X_train)\n",
    "eval_model(y_train, train_pred, y_test, pred)"
   ]
  },
  {
   "cell_type": "markdown",
   "id": "23227e7a-a7fa-40e5-9c17-4fee32cdf7e4",
   "metadata": {},
   "source": [
    "## BAGGING "
   ]
  },
  {
   "cell_type": "markdown",
   "id": "e46cff73-658f-472b-a52c-4fbd99bccfdf",
   "metadata": {},
   "source": [
    "### RANDOM FOREST ALGORITHM"
   ]
  },
  {
   "cell_type": "code",
   "execution_count": 31,
   "id": "d4c15299-b38e-4a52-8a74-d43fbdb4f070",
   "metadata": {},
   "outputs": [
    {
     "name": "stdout",
     "output_type": "stream",
     "text": [
      "Training time 1.6528\n",
      "Accuracy Score 99.27 %\n"
     ]
    }
   ],
   "source": [
    "from sklearn.ensemble import RandomForestClassifier\n",
    "from sklearn.datasets import make_classification\n",
    "\n",
    "\n",
    "start_train = time.time()\n",
    "rfc = RandomForestClassifier()\n",
    "rfc.fit(X_train, y_train)\n",
    "end_train = time.time()\n",
    "\n",
    "rfc_train = end_train-start_train\n",
    "print('Training time', round(rfc_train, 4) )\n",
    "\n",
    "pred = rfc.predict(X_test)\n",
    "accuracy_rfc = accuracy_score(y_test, pred) * 100\n",
    "\n",
    "print('Accuracy Score', round(accuracy_rfc,2), '%')"
   ]
  },
  {
   "cell_type": "code",
   "execution_count": 32,
   "id": "80d15eaf-5b2b-42a6-bb4b-4e640f3999d5",
   "metadata": {},
   "outputs": [
    {
     "name": "stdout",
     "output_type": "stream",
     "text": [
      "Evaluation on Train data: \n",
      "[[2935    0    0]\n",
      " [   0 3501    0]\n",
      " [   0    0  564]]\n",
      "              precision    recall  f1-score   support\n",
      "\n",
      "           0       1.00      1.00      1.00      2935\n",
      "           1       1.00      1.00      1.00      3501\n",
      "           2       1.00      1.00      1.00       564\n",
      "\n",
      "    accuracy                           1.00      7000\n",
      "   macro avg       1.00      1.00      1.00      7000\n",
      "weighted avg       1.00      1.00      1.00      7000\n",
      "\n",
      "**************************************************\n",
      "Evaluation on Test data: \n",
      "[[1215    2    0]\n",
      " [   8 1484    5]\n",
      " [   0    7  279]]\n",
      "              precision    recall  f1-score   support\n",
      "\n",
      "           0       0.99      1.00      1.00      1217\n",
      "           1       0.99      0.99      0.99      1497\n",
      "           2       0.98      0.98      0.98       286\n",
      "\n",
      "    accuracy                           0.99      3000\n",
      "   macro avg       0.99      0.99      0.99      3000\n",
      "weighted avg       0.99      0.99      0.99      3000\n",
      "\n"
     ]
    }
   ],
   "source": [
    "train_pred = rfc.predict(X_train)\n",
    "eval_model(y_train, train_pred, y_test, pred)"
   ]
  },
  {
   "cell_type": "markdown",
   "id": "b603755d-f5dc-470c-be76-a277c909b09d",
   "metadata": {},
   "source": [
    "# XG-BOOST ALGORITHM"
   ]
  },
  {
   "cell_type": "code",
   "execution_count": 33,
   "id": "6caf7f53-ec87-4969-9f40-6fe848dead6f",
   "metadata": {},
   "outputs": [
    {
     "name": "stdout",
     "output_type": "stream",
     "text": [
      "Requirement already satisfied: xgboost in c:\\users\\lenovo\\.conda\\envs\\mypandas\\lib\\site-packages (2.1.1)\n",
      "Requirement already satisfied: numpy in c:\\users\\lenovo\\.conda\\envs\\mypandas\\lib\\site-packages (from xgboost) (2.0.0)\n",
      "Requirement already satisfied: scipy in c:\\users\\lenovo\\.conda\\envs\\mypandas\\lib\\site-packages (from xgboost) (1.14.0)\n"
     ]
    }
   ],
   "source": [
    "!pip install xgboost"
   ]
  },
  {
   "cell_type": "code",
   "execution_count": 34,
   "id": "05dd9d88-f38e-40cb-ac46-dcd02bb15e09",
   "metadata": {},
   "outputs": [
    {
     "name": "stdout",
     "output_type": "stream",
     "text": [
      "Training time 0.3551\n",
      "Accuracy Score 99.37 %\n"
     ]
    }
   ],
   "source": [
    "from xgboost import XGBClassifier\n",
    "\n",
    "start_train = time.time()\n",
    "xgb = XGBClassifier()\n",
    "xgb.fit(X_train, y_train)\n",
    "end_train = time.time()\n",
    "\n",
    "xgb_train = end_train-start_train\n",
    "print('Training time', round(xgb_train, 4) )\n",
    "\n",
    "pred = xgb.predict(X_test)\n",
    "accuracy_xgb = accuracy_score(y_test, pred) * 100\n",
    "\n",
    "print('Accuracy Score', round(accuracy_xgb,2), '%')"
   ]
  },
  {
   "cell_type": "code",
   "execution_count": 35,
   "id": "2a502b47-fbab-410c-9f69-c01b4a75f9b5",
   "metadata": {},
   "outputs": [
    {
     "name": "stdout",
     "output_type": "stream",
     "text": [
      "Evaluation on Train data: \n",
      "[[2935    0    0]\n",
      " [   0 3501    0]\n",
      " [   0    0  564]]\n",
      "              precision    recall  f1-score   support\n",
      "\n",
      "           0       1.00      1.00      1.00      2935\n",
      "           1       1.00      1.00      1.00      3501\n",
      "           2       1.00      1.00      1.00       564\n",
      "\n",
      "    accuracy                           1.00      7000\n",
      "   macro avg       1.00      1.00      1.00      7000\n",
      "weighted avg       1.00      1.00      1.00      7000\n",
      "\n",
      "**************************************************\n",
      "Evaluation on Test data: \n",
      "[[1216    1    0]\n",
      " [   7 1484    6]\n",
      " [   0    5  281]]\n",
      "              precision    recall  f1-score   support\n",
      "\n",
      "           0       0.99      1.00      1.00      1217\n",
      "           1       1.00      0.99      0.99      1497\n",
      "           2       0.98      0.98      0.98       286\n",
      "\n",
      "    accuracy                           0.99      3000\n",
      "   macro avg       0.99      0.99      0.99      3000\n",
      "weighted avg       0.99      0.99      0.99      3000\n",
      "\n"
     ]
    }
   ],
   "source": [
    "train_pred = xgb.predict(X_train)\n",
    "eval_model(y_train, train_pred, y_test, pred)"
   ]
  },
  {
   "cell_type": "markdown",
   "id": "c0cff924-b1bd-486f-9ed1-6238fec340a9",
   "metadata": {},
   "source": [
    "## SUPPORT VECTOR MACHINEs"
   ]
  },
  {
   "cell_type": "code",
   "execution_count": 36,
   "id": "6af3541f-3893-4c69-a58e-65b9474fce1e",
   "metadata": {},
   "outputs": [
    {
     "name": "stdout",
     "output_type": "stream",
     "text": [
      "Training time 0.6431\n",
      "Accuracy Score 94.5 %\n"
     ]
    }
   ],
   "source": [
    "from sklearn.svm import SVC\n",
    "\n",
    "\n",
    "start_train = time.time()\n",
    "clf = SVC()\n",
    "clf.fit(X_train, y_train)\n",
    "end_train = time.time()\n",
    "\n",
    "clf_train = end_train-start_train\n",
    "print('Training time', round(clf_train, 4) )\n",
    "\n",
    "pred = clf.predict(X_test)\n",
    "accuracy_clf = accuracy_score(y_test, pred) * 100\n",
    "\n",
    "print('Accuracy Score', round(accuracy_clf,2), '%')"
   ]
  },
  {
   "cell_type": "code",
   "execution_count": 37,
   "id": "3dda5068-0ea5-4570-a61d-e2c5cabdb259",
   "metadata": {},
   "outputs": [
    {
     "name": "stdout",
     "output_type": "stream",
     "text": [
      "Evaluation on Train data: \n",
      "[[2712  214    9]\n",
      " [ 111 3381    9]\n",
      " [  11   28  525]]\n",
      "              precision    recall  f1-score   support\n",
      "\n",
      "           0       0.96      0.92      0.94      2935\n",
      "           1       0.93      0.97      0.95      3501\n",
      "           2       0.97      0.93      0.95       564\n",
      "\n",
      "    accuracy                           0.95      7000\n",
      "   macro avg       0.95      0.94      0.95      7000\n",
      "weighted avg       0.95      0.95      0.95      7000\n",
      "\n",
      "**************************************************\n",
      "Evaluation on Test data: \n",
      "[[1123   89    5]\n",
      " [  51 1444    2]\n",
      " [   5   13  268]]\n",
      "              precision    recall  f1-score   support\n",
      "\n",
      "           0       0.95      0.92      0.94      1217\n",
      "           1       0.93      0.96      0.95      1497\n",
      "           2       0.97      0.94      0.96       286\n",
      "\n",
      "    accuracy                           0.94      3000\n",
      "   macro avg       0.95      0.94      0.95      3000\n",
      "weighted avg       0.95      0.94      0.94      3000\n",
      "\n"
     ]
    }
   ],
   "source": [
    "train_pred = clf.predict(X_train)\n",
    "eval_model(y_train, train_pred, y_test, pred)"
   ]
  },
  {
   "cell_type": "code",
   "execution_count": 38,
   "id": "0d7d0178-8ecb-4f35-ab38-f62572e1eb5e",
   "metadata": {},
   "outputs": [
    {
     "data": {
      "text/html": [
       "<div>\n",
       "<style scoped>\n",
       "    .dataframe tbody tr th:only-of-type {\n",
       "        vertical-align: middle;\n",
       "    }\n",
       "\n",
       "    .dataframe tbody tr th {\n",
       "        vertical-align: top;\n",
       "    }\n",
       "\n",
       "    .dataframe thead th {\n",
       "        text-align: right;\n",
       "    }\n",
       "</style>\n",
       "<table border=\"1\" class=\"dataframe\">\n",
       "  <thead>\n",
       "    <tr style=\"text-align: right;\">\n",
       "      <th></th>\n",
       "      <th>Score</th>\n",
       "      <th>Train_Time</th>\n",
       "    </tr>\n",
       "    <tr>\n",
       "      <th>Model</th>\n",
       "      <th></th>\n",
       "      <th></th>\n",
       "    </tr>\n",
       "  </thead>\n",
       "  <tbody>\n",
       "    <tr>\n",
       "      <th>XGB</th>\n",
       "      <td>99.366667</td>\n",
       "      <td>0.355110</td>\n",
       "    </tr>\n",
       "    <tr>\n",
       "      <th>Random Forest</th>\n",
       "      <td>99.266667</td>\n",
       "      <td>1.652825</td>\n",
       "    </tr>\n",
       "    <tr>\n",
       "      <th>Naive Bayes</th>\n",
       "      <td>98.000000</td>\n",
       "      <td>0.001996</td>\n",
       "    </tr>\n",
       "    <tr>\n",
       "      <th>SVM</th>\n",
       "      <td>94.500000</td>\n",
       "      <td>0.643121</td>\n",
       "    </tr>\n",
       "    <tr>\n",
       "      <th>K-NN</th>\n",
       "      <td>93.633333</td>\n",
       "      <td>0.251627</td>\n",
       "    </tr>\n",
       "    <tr>\n",
       "      <th>logreg</th>\n",
       "      <td>91.566667</td>\n",
       "      <td>0.362430</td>\n",
       "    </tr>\n",
       "  </tbody>\n",
       "</table>\n",
       "</div>"
      ],
      "text/plain": [
       "                   Score  Train_Time\n",
       "Model                               \n",
       "XGB            99.366667    0.355110\n",
       "Random Forest  99.266667    1.652825\n",
       "Naive Bayes    98.000000    0.001996\n",
       "SVM            94.500000    0.643121\n",
       "K-NN           93.633333    0.251627\n",
       "logreg         91.566667    0.362430"
      ]
     },
     "execution_count": 38,
     "metadata": {},
     "output_type": "execute_result"
    }
   ],
   "source": [
    "dictt = {\n",
    "    'Model' : ['logreg', 'K-NN', 'Naive Bayes', 'Random Forest', 'XGB', 'SVM'],\n",
    "    'Score' : [accuracy_logreg, accuracy_neigh, accuracy_gnb, accuracy_rfc, accuracy_xgb, accuracy_clf],\n",
    "    'Train_Time' : [logreg_train, neigh_train, gnb_train, rfc_train, xgb_train, clf_train]\n",
    "}\n",
    "\n",
    "results_df = pd.DataFrame(dictt)\n",
    "results_df = results_df.sort_values(by = 'Score', ascending=False)\n",
    "results_df = results_df.set_index('Model')\n",
    "results_df"
   ]
  },
  {
   "cell_type": "markdown",
   "id": "8dece010-eced-464c-919a-1644a88f770d",
   "metadata": {},
   "source": [
    "## XGB IS MORE ACCURATE while NAIVE BAYES is the FASTEST in this case."
   ]
  },
  {
   "cell_type": "markdown",
   "id": "c6a612d5-a95c-4ea6-a0d5-845b5d83467f",
   "metadata": {},
   "source": [
    "### Cross validation: Model Selection: Criteria: Accuracy Score and Training Time -----> Best Accuracy at Optimum Time we chose that model.\n",
    "\n",
    "#### Accuracy -- Highest Accuracy\n",
    "\n",
    "#### Testing Time to the Testing Inference Time --> Inference time is low you can choose that model too.\n",
    "\n",
    "#### Why your model production Inference time important --> Because AWS, AZURE --> cloud platform has pricing based on hours --> AWS EC2 instance is 0.00002$ to $12/hr."
   ]
  },
  {
   "cell_type": "code",
   "execution_count": 39,
   "id": "363d3a7a-14ff-4ef9-8531-8478688f6efd",
   "metadata": {},
   "outputs": [],
   "source": [
    "from sklearn.model_selection import cross_val_score"
   ]
  },
  {
   "cell_type": "code",
   "execution_count": 40,
   "id": "f3c994ca-f94c-4aec-82bc-294ffc523c05",
   "metadata": {},
   "outputs": [
    {
     "name": "stdout",
     "output_type": "stream",
     "text": [
      "[0.99142857 0.99       0.98714286 0.99285714 0.99142857 0.99714286\n",
      " 0.99285714 0.99285714 0.99       0.99571429]\n",
      "Mean:  0.9921428571428571\n",
      "Standard Deviation:  0.002729281882077541\n"
     ]
    }
   ],
   "source": [
    "xgb_cv = XGBClassifier(n_estimators = 100)\n",
    "scores = cross_val_score(xgb_cv, X_train, y_train, cv=10, scoring='accuracy')\n",
    "print(scores)\n",
    "print('Mean: ', scores.mean())\n",
    "print('Standard Deviation: ', scores.std())"
   ]
  },
  {
   "cell_type": "code",
   "execution_count": 41,
   "id": "3f35086d-8a58-48de-ae7c-75e9ae61db43",
   "metadata": {},
   "outputs": [
    {
     "name": "stdout",
     "output_type": "stream",
     "text": [
      "[0.99285714 0.98857143 0.98714286 0.99285714 0.99142857 0.99571429\n",
      " 0.99       0.99285714 0.98857143 0.99571429]\n",
      "Mean:  0.9915714285714285\n",
      "Standard Deviation:  0.0028175832747594325\n"
     ]
    }
   ],
   "source": [
    "rfc_cv = RandomForestClassifier(n_estimators = 100)\n",
    "scores = cross_val_score(rfc_cv, X_train, y_train, cv=10, scoring='accuracy')\n",
    "print(scores)\n",
    "print('Mean: ', scores.mean())\n",
    "print('Standard Deviation: ', scores.std())"
   ]
  },
  {
   "cell_type": "code",
   "execution_count": 42,
   "id": "76823ae8-9a72-49a8-81c7-21fc6f5f720b",
   "metadata": {},
   "outputs": [
    {
     "name": "stdout",
     "output_type": "stream",
     "text": [
      "[0.97285714 0.97857143 0.97       0.97571429 0.97857143 0.97285714\n",
      " 0.97       0.98571429 0.97       0.98142857]\n",
      "Mean:  0.9755714285714288\n",
      "Standard Deviation:  0.005128949448861797\n"
     ]
    }
   ],
   "source": [
    "gnb_cv = GaussianNB()\n",
    "scores = cross_val_score(gnb_cv, X_train, y_train, cv=10, scoring='accuracy')\n",
    "print(scores)\n",
    "print('Mean: ', scores.mean())\n",
    "print('Standard Deviation: ', scores.std())"
   ]
  },
  {
   "cell_type": "markdown",
   "id": "8134b656-396a-4f7a-a5da-334479c29db3",
   "metadata": {},
   "source": [
    "### FEATURE IMPORTANCE:"
   ]
  },
  {
   "cell_type": "code",
   "execution_count": 43,
   "id": "742b99a0-e2e6-48a4-8f50-84b513099435",
   "metadata": {},
   "outputs": [],
   "source": [
    "# XGBOOST --> inbuilt algorithm\n",
    "\n",
    "importances = pd.DataFrame({'Feature': df_encode.drop('class', axis=1).columns,\n",
    "                           'Importance': xgb.feature_importances_})"
   ]
  },
  {
   "cell_type": "code",
   "execution_count": 44,
   "id": "384f876c-5160-44d3-afba-984321a86146",
   "metadata": {},
   "outputs": [
    {
     "data": {
      "text/html": [
       "<div>\n",
       "<style scoped>\n",
       "    .dataframe tbody tr th:only-of-type {\n",
       "        vertical-align: middle;\n",
       "    }\n",
       "\n",
       "    .dataframe tbody tr th {\n",
       "        vertical-align: top;\n",
       "    }\n",
       "\n",
       "    .dataframe thead th {\n",
       "        text-align: right;\n",
       "    }\n",
       "</style>\n",
       "<table border=\"1\" class=\"dataframe\">\n",
       "  <thead>\n",
       "    <tr style=\"text-align: right;\">\n",
       "      <th></th>\n",
       "      <th>Importance</th>\n",
       "    </tr>\n",
       "    <tr>\n",
       "      <th>Feature</th>\n",
       "      <th></th>\n",
       "    </tr>\n",
       "  </thead>\n",
       "  <tbody>\n",
       "    <tr>\n",
       "      <th>redshift</th>\n",
       "      <td>0.929004</td>\n",
       "    </tr>\n",
       "    <tr>\n",
       "      <th>PCA3</th>\n",
       "      <td>0.020943</td>\n",
       "    </tr>\n",
       "    <tr>\n",
       "      <th>PCA2</th>\n",
       "      <td>0.011668</td>\n",
       "    </tr>\n",
       "    <tr>\n",
       "      <th>plate</th>\n",
       "      <td>0.007551</td>\n",
       "    </tr>\n",
       "    <tr>\n",
       "      <th>PCA1</th>\n",
       "      <td>0.007349</td>\n",
       "    </tr>\n",
       "    <tr>\n",
       "      <th>mjd</th>\n",
       "      <td>0.006594</td>\n",
       "    </tr>\n",
       "    <tr>\n",
       "      <th>fiberid</th>\n",
       "      <td>0.006096</td>\n",
       "    </tr>\n",
       "    <tr>\n",
       "      <th>ra</th>\n",
       "      <td>0.005515</td>\n",
       "    </tr>\n",
       "    <tr>\n",
       "      <th>dec</th>\n",
       "      <td>0.005280</td>\n",
       "    </tr>\n",
       "  </tbody>\n",
       "</table>\n",
       "</div>"
      ],
      "text/plain": [
       "          Importance\n",
       "Feature             \n",
       "redshift    0.929004\n",
       "PCA3        0.020943\n",
       "PCA2        0.011668\n",
       "plate       0.007551\n",
       "PCA1        0.007349\n",
       "mjd         0.006594\n",
       "fiberid     0.006096\n",
       "ra          0.005515\n",
       "dec         0.005280"
      ]
     },
     "execution_count": 44,
     "metadata": {},
     "output_type": "execute_result"
    }
   ],
   "source": [
    "importances = importances.sort_values(by = 'Importance', ascending = False)\n",
    "importances = importances.set_index('Feature')\n",
    "importances"
   ]
  },
  {
   "cell_type": "code",
   "execution_count": 45,
   "id": "a02575de-3ba0-4d12-95cb-1a2c3cbcc27c",
   "metadata": {},
   "outputs": [
    {
     "data": {
      "text/plain": [
       "<Axes: xlabel='Feature'>"
      ]
     },
     "execution_count": 45,
     "metadata": {},
     "output_type": "execute_result"
    },
    {
     "data": {
      "image/png": "[encoded data removed]",
      "text/plain": [
       "<Figure size 640x480 with 1 Axes>"
      ]
     },
     "metadata": {},
     "output_type": "display_data"
    }
   ],
   "source": [
    "importances.plot.bar()"
   ]
  },
  {
   "cell_type": "code",
   "execution_count": 47,
   "id": "5f3591eb-f24d-4932-8577-8343615c307e",
   "metadata": {},
   "outputs": [],
   "source": []
  },
  {
   "cell_type": "code",
   "execution_count": null,
   "id": "bc2c0fac-67e0-4c27-ad03-3391e651e080",
   "metadata": {},
   "outputs": [],
   "source": []
  }
 ],
 "metadata": {
  "kernelspec": {
   "display_name": "Python 3 (ipykernel)",
   "language": "python",
   "name": "python3"
  },
  "language_info": {
   "codemirror_mode": {
    "name": "ipython",
    "version": 3
   },
   "file_extension": ".py",
   "mimetype": "text/x-python",
   "name": "python",
   "nbconvert_exporter": "python",
   "pygments_lexer": "ipython3",
   "version": "3.11.9"
  }
 },
 "nbformat": 4,
 "nbformat_minor": 5
}
